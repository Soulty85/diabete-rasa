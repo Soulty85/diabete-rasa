{
 "cells": [
  {
   "cell_type": "markdown",
   "metadata": {},
   "source": [
    "### DATA SCRAPING"
   ]
  },
  {
   "cell_type": "markdown",
   "metadata": {},
   "source": [
    "Ce fichier sera le support d'extraction de donnees concernant le diabete a partir du site https://www.diabete.qc.ca/. Ces donnees seront ensuite utilise dans l'implementation d'un modele d'apprentissage NLP avec le framework python : Rasa. L'objectif est d'obtenir la data necessaire a l'entrainement d'un modele sous forme de chatbot capable de fournir des informations sur le diabete afin de faire la sensibilisation sur cette maladie qui ne cesse de progresser."
   ]
  },
  {
   "cell_type": "markdown",
   "metadata": {},
   "source": [
    "### Implementation de l'algorithme de scraping"
   ]
  },
  {
   "cell_type": "code",
   "execution_count": 1,
   "metadata": {},
   "outputs": [],
   "source": [
    "# importation des differents modules et classes de base\n",
    "from selectolax.parser import HTMLParser\n",
    "from loguru import logger\n",
    "import sys \n",
    "import requests\n",
    "import csv"
   ]
  },
  {
   "cell_type": "code",
   "execution_count": 2,
   "metadata": {},
   "outputs": [
    {
     "data": {
      "text/plain": [
       "2"
      ]
     },
     "execution_count": 2,
     "metadata": {},
     "output_type": "execute_result"
    }
   ],
   "source": [
    "# Mis en ploce des loggers\n",
    "logger.remove()\n",
    "logger.add(\"diabete.log\", rotation=\"1000kb\", level=\"WARNING\")\n",
    "logger.add(sys.stderr, level=\"INFO\")"
   ]
  },
  {
   "cell_type": "code",
   "execution_count": 3,
   "metadata": {},
   "outputs": [],
   "source": [
    "# recuperation de la page a scrapper\n",
    "url = \"https://www.diabete.qc.ca/le-diabete-en-questions/\"\n",
    "response = requests.get(url)\n",
    "tree = HTMLParser(response.text)"
   ]
  },
  {
   "cell_type": "code",
   "execution_count": 4,
   "metadata": {},
   "outputs": [],
   "source": [
    "def ul_extraction(ul):\n",
    "    ul_resp = ''\n",
    "    for li in list(ul.iter()):\n",
    "        ul_resp += '-' + li.child.html +'\\n'\n",
    "\n",
    "    return ul_resp"
   ]
  },
  {
   "cell_type": "code",
   "execution_count": 5,
   "metadata": {},
   "outputs": [],
   "source": [
    "\n",
    "def extract_response(balise):\n",
    "    to_return = ''\n",
    "    \n",
    "    # recuperation du titre qui fera office d'intent pour le model\n",
    "    title = balise.css_first(\"span.accordion__header__title\").child.html\n",
    "        \n",
    "    # recuperation des differentes du texte faisant office de reponse\n",
    "    resps = list(balise.css_first(\"div.accordion__sub-rows\").iter())\n",
    "    \n",
    "    for resp in resps:\n",
    "        if resp.tag == 'p':\n",
    "            to_return += resp.child.html + '\\n'\n",
    "        elif resp.tag == 'ul':\n",
    "            to_return += ul_extraction(resp) + '\\n'\n",
    "            \n",
    "    return {'title' : title, \n",
    "            'description' : to_return}"
   ]
  },
  {
   "cell_type": "code",
   "execution_count": 6,
   "metadata": {},
   "outputs": [],
   "source": [
    "def fonction(container):\n",
    "    liste = []\n",
    "    accordions = container.css(\"section.accordion\")\n",
    "    for accordion in accordions:\n",
    "        liste.append(extract_response(accordion))\n",
    "    return liste"
   ]
  },
  {
   "cell_type": "code",
   "execution_count": 7,
   "metadata": {},
   "outputs": [
    {
     "name": "stdout",
     "output_type": "stream",
     "text": [
      "{'title': 'Quelles sont les complications du diabète ?', 'description': 'Les complications liées au diabète ont une origine commune : l’excédent de glucose dans le sang. Les complications du diabète peuvent modifier grandement la vie d’une personne diabétique. Un bon contrôle des glycémies permet de retarder et parfois même de limiter l’apparition des complications.\\nÀ la longue, un taux de sucre élevé dans le sang entraîne certaines complications, notamment au niveau des yeux, des reins, des nerfs, du cœur et des vaisseaux sanguins.&nbsp;\\n'}\n"
     ]
    }
   ],
   "source": [
    "sections = tree.css_first(\"section.block-accordions-group.theme-block.aligndefault\")\n",
    "informations = fonction(sections)\n",
    "\n",
    "print(informations[1])"
   ]
  },
  {
   "cell_type": "code",
   "execution_count": 8,
   "metadata": {},
   "outputs": [],
   "source": [
    "with open(\"diabetes_data.csv\", \"w\", encoding=\"utf-8\", newline= \"\") as csvfile:\n",
    "        writer = csv.DictWriter(csvfile, fieldnames=[\"title\", \"description\"])\n",
    "        writer.writeheader()\n",
    "        writer.writerows(informations)"
   ]
  }
 ],
 "metadata": {
  "kernelspec": {
   "display_name": ".venv",
   "language": "python",
   "name": "python3"
  },
  "language_info": {
   "codemirror_mode": {
    "name": "ipython",
    "version": 3
   },
   "file_extension": ".py",
   "mimetype": "text/x-python",
   "name": "python",
   "nbconvert_exporter": "python",
   "pygments_lexer": "ipython3",
   "version": "3.12.3"
  }
 },
 "nbformat": 4,
 "nbformat_minor": 2
}
